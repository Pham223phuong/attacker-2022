{
 "cells": [
  {
   "cell_type": "code",
   "execution_count": 1,
   "id": "8615c7e8",
   "metadata": {},
   "outputs": [],
   "source": [
    "import pandas as pd\n",
    "import numpy as np\n",
    "from matplotlib import pyplot as plt\n",
    "%matplotlib inline"
   ]
  },
  {
   "cell_type": "code",
   "execution_count": 2,
   "id": "c5265c4d",
   "metadata": {},
   "outputs": [],
   "source": [
    "data = pd.read_excel(\"C:\\\\Users\\\\ASUS\\\\Downloads\\\\TRAIN_final.xlsx\", index_col = \"id\")"
   ]
  },
  {
   "cell_type": "code",
   "execution_count": 3,
   "id": "6594ec90",
   "metadata": {},
   "outputs": [
    {
     "name": "stdout",
     "output_type": "stream",
     "text": [
      "<class 'pandas.core.frame.DataFrame'>\n",
      "Int64Index: 48030 entries, 11651 to 89883\n",
      "Data columns (total 49 columns):\n",
      " #   Column                     Non-Null Count  Dtype  \n",
      "---  ------                     --------------  -----  \n",
      " 0   label                      48030 non-null  int64  \n",
      " 1   time_trans                 48030 non-null  float64\n",
      " 2   cat_1                      48030 non-null  int64  \n",
      " 3   cat_2                      48030 non-null  int64  \n",
      " 4   cat_3                      48030 non-null  int64  \n",
      " 5   cat_5                      48030 non-null  int64  \n",
      " 6   mul_rate                   48030 non-null  float64\n",
      " 7   value                      48030 non-null  int64  \n",
      " 8   cat_6                      48030 non-null  int64  \n",
      " 9   num_date_review            48030 non-null  int64  \n",
      " 10  review_value               48030 non-null  int64  \n",
      " 11  dob                        48030 non-null  int64  \n",
      " 12  sex                        48030 non-null  int64  \n",
      " 13  location_id                48030 non-null  int64  \n",
      " 14  cat_7                      48030 non-null  int64  \n",
      " 15  trans_currency             48030 non-null  int64  \n",
      " 16  job                        48030 non-null  int64  \n",
      " 17  num_trans_last_month       48030 non-null  int64  \n",
      " 18  cat_9                      48030 non-null  int64  \n",
      " 19  cat_10                     48030 non-null  int64  \n",
      " 20  cat_11                     48030 non-null  int64  \n",
      " 21  com_type                   48030 non-null  int64  \n",
      " 22  cat_12                     48030 non-null  int64  \n",
      " 23  unknown_var_1              48030 non-null  int64  \n",
      " 24  unknown_var_2              48030 non-null  int64  \n",
      " 25  unknown_var_3              48030 non-null  int64  \n",
      " 26  unknown_var_4              48030 non-null  int64  \n",
      " 27  unknown_var_5              48030 non-null  int64  \n",
      " 28  unknown_var_6              48030 non-null  int64  \n",
      " 29  unknown_var_7              48030 non-null  int64  \n",
      " 30  unknown_var_8              48030 non-null  float64\n",
      " 31  unknown_var_9              48030 non-null  float64\n",
      " 32  unknown_var_10             48030 non-null  int64  \n",
      " 33  unknown_var_11             48030 non-null  int64  \n",
      " 34  unknown_var_12             48030 non-null  float64\n",
      " 35  unknown_var_13             48030 non-null  float64\n",
      " 36  unknown_var_14             48030 non-null  float64\n",
      " 37  unknown_var_15             48030 non-null  float64\n",
      " 38  unknown_var_16             48030 non-null  int64  \n",
      " 39  unknown_var_17             48030 non-null  int64  \n",
      " 40  unknown_var_18             48030 non-null  int64  \n",
      " 41  unknown_var_19             48030 non-null  int64  \n",
      " 42  unknown_var_20             48030 non-null  int64  \n",
      " 43  social_friend_count        48030 non-null  int64  \n",
      " 44  social_sex_info            48030 non-null  int64  \n",
      " 45  social_subcriber_count     48030 non-null  int64  \n",
      " 46  social_location_id         48030 non-null  int64  \n",
      " 47  current_location_country   48030 non-null  int64  \n",
      " 48  hometown_location_country  48030 non-null  int64  \n",
      "dtypes: float64(8), int64(41)\n",
      "memory usage: 18.3 MB\n"
     ]
    }
   ],
   "source": [
    "data.info()"
   ]
  },
  {
   "cell_type": "code",
   "execution_count": 4,
   "id": "2e037079",
   "metadata": {},
   "outputs": [
    {
     "data": {
      "text/plain": [
       "<bound method DataFrame.info of        time_trans  job  unknown_var_2  unknown_var_4  unknown_var_5  \\\n",
       "id                                                                    \n",
       "11651    3.681389    1              7              1              1   \n",
       "48491    3.681389    1             11              5              1   \n",
       "42868    0.000000    3              4              1              3   \n",
       "68835    3.681389    1              4              1              2   \n",
       "73688    3.681389    1              5              1              9   \n",
       "...           ...  ...            ...            ...            ...   \n",
       "89571  643.028611    1              1              1              0   \n",
       "89621    3.681389    1              1              1              0   \n",
       "89649    3.681389    1              1              1              0   \n",
       "89826    3.681389    1              1              1              0   \n",
       "89883    3.681389    7              1              1              0   \n",
       "\n",
       "       unknown_var_7  unknown_var_9  unknown_var_10  unknown_var_17  \\\n",
       "id                                                                    \n",
       "11651              5           -2.5             -10            2901   \n",
       "48491             84           45.0               6            1801   \n",
       "42868              2            1.0               0            1801   \n",
       "68835              0            0.0               0            1801   \n",
       "73688            -92          -92.0             -92            1801   \n",
       "...              ...            ...             ...             ...   \n",
       "89571              0            0.0               0            2185   \n",
       "89621              0            0.0               0            1801   \n",
       "89649              0            0.0               0            1801   \n",
       "89826              0            0.0               0            1801   \n",
       "89883              0            0.0               0            1801   \n",
       "\n",
       "       social_friend_count  \n",
       "id                          \n",
       "11651                  285  \n",
       "48491                 2534  \n",
       "42868                  653  \n",
       "68835                    0  \n",
       "73688                    0  \n",
       "...                    ...  \n",
       "89571                    1  \n",
       "89621                    0  \n",
       "89649                   24  \n",
       "89826                   65  \n",
       "89883                   29  \n",
       "\n",
       "[48030 rows x 10 columns]>"
      ]
     },
     "execution_count": 4,
     "metadata": {},
     "output_type": "execute_result"
    }
   ],
   "source": [
    "#Chọn biến cho x và y\n",
    "ft = ['time_trans','job','unknown_var_2','unknown_var_4','unknown_var_5','unknown_var_7','unknown_var_9','unknown_var_10','unknown_var_17','social_friend_count']\n",
    "x= data[ft]\n",
    "y= data['label']\n",
    "x.info"
   ]
  },
  {
   "cell_type": "code",
   "execution_count": 5,
   "id": "327d8288",
   "metadata": {},
   "outputs": [],
   "source": [
    "\n",
    "from sklearn.model_selection import train_test_split\n",
    "from sklearn.metrics import accuracy_score\n",
    "from sklearn.metrics import classification_report"
   ]
  },
  {
   "cell_type": "code",
   "execution_count": 6,
   "id": "cb01f0f6",
   "metadata": {},
   "outputs": [],
   "source": [
    "#chia dataset thành 2 tập là train và valid\n",
    "X_train, X_valid, y_train, y_valid= train_test_split(x,y, train_size = 0.8, test_size=0.2, random_state=0)"
   ]
  },
  {
   "cell_type": "code",
   "execution_count": 7,
   "id": "d09f73ef",
   "metadata": {},
   "outputs": [
    {
     "name": "stdout",
     "output_type": "stream",
     "text": [
      "<class 'pandas.core.frame.DataFrame'>\n",
      "Int64Index: 9606 entries, 62181 to 59495\n",
      "Data columns (total 10 columns):\n",
      " #   Column               Non-Null Count  Dtype  \n",
      "---  ------               --------------  -----  \n",
      " 0   time_trans           9606 non-null   float64\n",
      " 1   job                  9606 non-null   int64  \n",
      " 2   unknown_var_2        9606 non-null   int64  \n",
      " 3   unknown_var_4        9606 non-null   int64  \n",
      " 4   unknown_var_5        9606 non-null   int64  \n",
      " 5   unknown_var_7        9606 non-null   int64  \n",
      " 6   unknown_var_9        9606 non-null   float64\n",
      " 7   unknown_var_10       9606 non-null   int64  \n",
      " 8   unknown_var_17       9606 non-null   int64  \n",
      " 9   social_friend_count  9606 non-null   int64  \n",
      "dtypes: float64(2), int64(8)\n",
      "memory usage: 825.5 KB\n"
     ]
    }
   ],
   "source": [
    "X_valid.info()"
   ]
  },
  {
   "cell_type": "code",
   "execution_count": 8,
   "id": "bf1688cc",
   "metadata": {},
   "outputs": [],
   "source": [
    "#MÔ HÌNH DECISION TREE\n",
    "from sklearn.tree import DecisionTreeClassifier\n",
    "dt_model = DecisionTreeClassifier(random_state=1)"
   ]
  },
  {
   "cell_type": "code",
   "execution_count": 9,
   "id": "0b52613c",
   "metadata": {},
   "outputs": [
    {
     "data": {
      "text/plain": [
       "DecisionTreeClassifier(random_state=1)"
      ]
     },
     "execution_count": 9,
     "metadata": {},
     "output_type": "execute_result"
    }
   ],
   "source": [
    "#đưa dữ liệu train vào mô hình\n",
    "dt_model.fit(X_train, y_train)"
   ]
  },
  {
   "cell_type": "code",
   "execution_count": 10,
   "id": "7b38a5dd",
   "metadata": {},
   "outputs": [
    {
     "data": {
      "text/plain": [
       "array([1, 0, 0, ..., 1, 1, 0], dtype=int64)"
      ]
     },
     "execution_count": 10,
     "metadata": {},
     "output_type": "execute_result"
    }
   ],
   "source": [
    "#Đưa ra dự đoán cho valid set\n",
    "y_preds = dt_model.predict(X_valid)\n",
    "y_preds"
   ]
  },
  {
   "cell_type": "code",
   "execution_count": 11,
   "id": "e240d4b7",
   "metadata": {},
   "outputs": [
    {
     "name": "stdout",
     "output_type": "stream",
     "text": [
      "Accuracy score: 0.5554861544867791\n",
      "              precision    recall  f1-score   support\n",
      "\n",
      "           0       0.66      0.67      0.67      6335\n",
      "           1       0.34      0.32      0.33      3271\n",
      "\n",
      "    accuracy                           0.56      9606\n",
      "   macro avg       0.50      0.50      0.50      9606\n",
      "weighted avg       0.55      0.56      0.55      9606\n",
      "\n"
     ]
    }
   ],
   "source": [
    "print('Accuracy score:', accuracy_score(y_valid, y_preds))\n",
    "print(classification_report(y_valid, y_preds))"
   ]
  },
  {
   "cell_type": "code",
   "execution_count": 12,
   "id": "6a779cad",
   "metadata": {},
   "outputs": [],
   "source": [
    "#RandomForestClassifier\n",
    "from sklearn.ensemble import RandomForestClassifier"
   ]
  },
  {
   "cell_type": "code",
   "execution_count": 13,
   "id": "3756e732",
   "metadata": {},
   "outputs": [],
   "source": [
    "rf_model= RandomForestClassifier(random_state=1)"
   ]
  },
  {
   "cell_type": "code",
   "execution_count": 14,
   "id": "5d0baa3d",
   "metadata": {},
   "outputs": [
    {
     "data": {
      "text/plain": [
       "array([0, 0, 0, ..., 0, 0, 0], dtype=int64)"
      ]
     },
     "execution_count": 14,
     "metadata": {},
     "output_type": "execute_result"
    }
   ],
   "source": [
    "rf_model.fit(X_train,y_train)\n",
    "rf=rf_model.predict(X_valid)\n",
    "rf"
   ]
  },
  {
   "cell_type": "code",
   "execution_count": 15,
   "id": "0789de9f",
   "metadata": {},
   "outputs": [
    {
     "name": "stdout",
     "output_type": "stream",
     "text": [
      "Accuracy score: 0.6174266083697689\n",
      "              precision    recall  f1-score   support\n",
      "\n",
      "           0       0.66      0.87      0.75      6335\n",
      "           1       0.34      0.13      0.19      3271\n",
      "\n",
      "    accuracy                           0.62      9606\n",
      "   macro avg       0.50      0.50      0.47      9606\n",
      "weighted avg       0.55      0.62      0.56      9606\n",
      "\n"
     ]
    }
   ],
   "source": [
    "print('Accuracy score:', accuracy_score(y_valid, rf))\n",
    "print(classification_report(y_valid, rf))"
   ]
  },
  {
   "cell_type": "code",
   "execution_count": 16,
   "id": "3d12e40e",
   "metadata": {},
   "outputs": [],
   "source": [
    "#LogisticRegression (TỆ KO DÙNG LUN ko phù hợp với bài toán)\n",
    "from sklearn.linear_model import LogisticRegression"
   ]
  },
  {
   "cell_type": "code",
   "execution_count": 17,
   "id": "dd88bcad",
   "metadata": {},
   "outputs": [],
   "source": [
    "lr_model = LogisticRegression(random_state=1)"
   ]
  },
  {
   "cell_type": "code",
   "execution_count": 18,
   "id": "5df1e434",
   "metadata": {},
   "outputs": [
    {
     "name": "stderr",
     "output_type": "stream",
     "text": [
      "C:\\Users\\ASUS\\anaconda3\\lib\\site-packages\\sklearn\\linear_model\\_logistic.py:763: ConvergenceWarning: lbfgs failed to converge (status=1):\n",
      "STOP: TOTAL NO. of ITERATIONS REACHED LIMIT.\n",
      "\n",
      "Increase the number of iterations (max_iter) or scale the data as shown in:\n",
      "    https://scikit-learn.org/stable/modules/preprocessing.html\n",
      "Please also refer to the documentation for alternative solver options:\n",
      "    https://scikit-learn.org/stable/modules/linear_model.html#logistic-regression\n",
      "  n_iter_i = _check_optimize_result(\n"
     ]
    },
    {
     "data": {
      "text/plain": [
       "0.6530293566520925"
      ]
     },
     "execution_count": 18,
     "metadata": {},
     "output_type": "execute_result"
    }
   ],
   "source": [
    "lr_model.fit(X_train, y_train)\n",
    "lr_model.score(X_train, y_train)"
   ]
  },
  {
   "cell_type": "code",
   "execution_count": 19,
   "id": "e37fa834",
   "metadata": {},
   "outputs": [
    {
     "name": "stdout",
     "output_type": "stream",
     "text": [
      "Coefficient: \n",
      " [[ 2.18013425e-05 -1.99035587e-02 -6.06365930e-03 -5.16747865e-03\n",
      "  -1.25107643e-02 -1.35333566e-03  3.84719229e-04  3.82483664e-04\n",
      "  -1.96832297e-04 -4.76863730e-05]]\n",
      "Intercept: \n",
      " [-0.01074394]\n"
     ]
    }
   ],
   "source": [
    "print('Coefficient: \\n', lr_model.coef_)\n",
    "print('Intercept: \\n', lr_model.intercept_)"
   ]
  },
  {
   "cell_type": "code",
   "execution_count": 20,
   "id": "cfee2b5a",
   "metadata": {},
   "outputs": [
    {
     "data": {
      "text/plain": [
       "array([0, 0, 0, ..., 0, 0, 0], dtype=int64)"
      ]
     },
     "execution_count": 20,
     "metadata": {},
     "output_type": "execute_result"
    }
   ],
   "source": [
    "lr= lr_model.predict(X_valid)\n",
    "lr"
   ]
  },
  {
   "cell_type": "code",
   "execution_count": 21,
   "id": "9b0734f0",
   "metadata": {},
   "outputs": [
    {
     "name": "stdout",
     "output_type": "stream",
     "text": [
      "Accuracy score: 0.6594836560483032\n",
      "              precision    recall  f1-score   support\n",
      "\n",
      "           0       0.66      1.00      0.79      6335\n",
      "           1       0.50      0.00      0.00      3271\n",
      "\n",
      "    accuracy                           0.66      9606\n",
      "   macro avg       0.58      0.50      0.40      9606\n",
      "weighted avg       0.61      0.66      0.52      9606\n",
      "\n"
     ]
    }
   ],
   "source": [
    "print('Accuracy score:', accuracy_score(y_valid, lr))\n",
    "print(classification_report(y_valid,lr))"
   ]
  },
  {
   "cell_type": "code",
   "execution_count": 22,
   "id": "0b12213b",
   "metadata": {},
   "outputs": [],
   "source": [
    "#GaussianNB (THẤP)\n",
    "from sklearn.naive_bayes import GaussianNB"
   ]
  },
  {
   "cell_type": "code",
   "execution_count": 23,
   "id": "dc3d5daa",
   "metadata": {},
   "outputs": [
    {
     "data": {
      "text/plain": [
       "array([1, 1, 1, ..., 1, 1, 0], dtype=int64)"
      ]
     },
     "execution_count": 23,
     "metadata": {},
     "output_type": "execute_result"
    }
   ],
   "source": [
    "nb_model = GaussianNB()\n",
    "nb_model.fit(X_train, y_train)\n",
    "nb = nb_model.predict(X_valid)\n",
    "nb"
   ]
  },
  {
   "cell_type": "code",
   "execution_count": 24,
   "id": "de6e9bc4",
   "metadata": {},
   "outputs": [
    {
     "name": "stdout",
     "output_type": "stream",
     "text": [
      "Accuracy score: 0.448157401623985\n",
      "              precision    recall  f1-score   support\n",
      "\n",
      "           0       0.65      0.35      0.46      6335\n",
      "           1       0.34      0.64      0.44      3271\n",
      "\n",
      "    accuracy                           0.45      9606\n",
      "   macro avg       0.49      0.49      0.45      9606\n",
      "weighted avg       0.54      0.45      0.45      9606\n",
      "\n"
     ]
    }
   ],
   "source": [
    "print('Accuracy score:', accuracy_score(y_valid, nb))\n",
    "print(classification_report(y_valid, nb))"
   ]
  },
  {
   "cell_type": "code",
   "execution_count": 25,
   "id": "51c2d8e2",
   "metadata": {},
   "outputs": [],
   "source": [
    "#svc (TỆ KO DÙNG LUN)\n",
    "from sklearn.svm import SVC"
   ]
  },
  {
   "cell_type": "code",
   "execution_count": 26,
   "id": "bbc2684a",
   "metadata": {},
   "outputs": [
    {
     "data": {
      "text/plain": [
       "array([0, 0, 0, ..., 0, 0, 0], dtype=int64)"
      ]
     },
     "execution_count": 26,
     "metadata": {},
     "output_type": "execute_result"
    }
   ],
   "source": [
    "svc_model=SVC()\n",
    "svc_model.fit(X_train, y_train)\n",
    "svc_model.score(X_train, y_train)\n",
    "svc= svc_model.predict(X_valid)\n",
    "svc "
   ]
  },
  {
   "cell_type": "code",
   "execution_count": 27,
   "id": "7d9bed3c",
   "metadata": {},
   "outputs": [
    {
     "name": "stdout",
     "output_type": "stream",
     "text": [
      "Accuracy score: 0.6594836560483032\n",
      "              precision    recall  f1-score   support\n",
      "\n",
      "           0       0.66      1.00      0.79      6335\n",
      "           1       0.00      0.00      0.00      3271\n",
      "\n",
      "    accuracy                           0.66      9606\n",
      "   macro avg       0.33      0.50      0.40      9606\n",
      "weighted avg       0.43      0.66      0.52      9606\n",
      "\n"
     ]
    },
    {
     "name": "stderr",
     "output_type": "stream",
     "text": [
      "C:\\Users\\ASUS\\anaconda3\\lib\\site-packages\\sklearn\\metrics\\_classification.py:1248: UndefinedMetricWarning: Precision and F-score are ill-defined and being set to 0.0 in labels with no predicted samples. Use `zero_division` parameter to control this behavior.\n",
      "  _warn_prf(average, modifier, msg_start, len(result))\n",
      "C:\\Users\\ASUS\\anaconda3\\lib\\site-packages\\sklearn\\metrics\\_classification.py:1248: UndefinedMetricWarning: Precision and F-score are ill-defined and being set to 0.0 in labels with no predicted samples. Use `zero_division` parameter to control this behavior.\n",
      "  _warn_prf(average, modifier, msg_start, len(result))\n",
      "C:\\Users\\ASUS\\anaconda3\\lib\\site-packages\\sklearn\\metrics\\_classification.py:1248: UndefinedMetricWarning: Precision and F-score are ill-defined and being set to 0.0 in labels with no predicted samples. Use `zero_division` parameter to control this behavior.\n",
      "  _warn_prf(average, modifier, msg_start, len(result))\n"
     ]
    }
   ],
   "source": [
    "print('Accuracy score:', accuracy_score(y_valid, svc))\n",
    "print(classification_report(y_valid, svc))"
   ]
  },
  {
   "cell_type": "code",
   "execution_count": 28,
   "id": "53df6c3f",
   "metadata": {},
   "outputs": [],
   "source": [
    "#KNeighborsClassifier\n",
    "from sklearn.neighbors import KNeighborsClassifier"
   ]
  },
  {
   "cell_type": "code",
   "execution_count": 29,
   "id": "1f4ddbfa",
   "metadata": {},
   "outputs": [
    {
     "data": {
      "text/plain": [
       "array([0, 0, 0, ..., 0, 0, 0], dtype=int64)"
      ]
     },
     "execution_count": 29,
     "metadata": {},
     "output_type": "execute_result"
    }
   ],
   "source": [
    "knn_model = KNeighborsClassifier(n_neighbors=6)\n",
    "knn_model.fit(X_train, y_train)\n",
    "knn= knn_model.predict(X_valid)\n",
    "knn"
   ]
  },
  {
   "cell_type": "code",
   "execution_count": 30,
   "id": "1b8d9764",
   "metadata": {},
   "outputs": [
    {
     "name": "stdout",
     "output_type": "stream",
     "text": [
      "Accuracy score: 0.6203414532583802\n",
      "              precision    recall  f1-score   support\n",
      "\n",
      "           0       0.66      0.88      0.75      6335\n",
      "           1       0.33      0.11      0.17      3271\n",
      "\n",
      "    accuracy                           0.62      9606\n",
      "   macro avg       0.50      0.50      0.46      9606\n",
      "weighted avg       0.55      0.62      0.55      9606\n",
      "\n"
     ]
    }
   ],
   "source": [
    "print('Accuracy score:', accuracy_score(y_valid, knn))\n",
    "print(classification_report(y_valid, knn))"
   ]
  },
  {
   "cell_type": "code",
   "execution_count": 31,
   "id": "6348eaac",
   "metadata": {},
   "outputs": [],
   "source": [
    "#GradientBoostingClassifier (TỆ)\n",
    "from sklearn.ensemble import GradientBoostingClassifier"
   ]
  },
  {
   "cell_type": "code",
   "execution_count": 32,
   "id": "7b62c768",
   "metadata": {},
   "outputs": [],
   "source": [
    "gb_model= GradientBoostingClassifier(n_estimators=100, learning_rate=1.0, max_depth=1, random_state=1)"
   ]
  },
  {
   "cell_type": "code",
   "execution_count": 33,
   "id": "d4ad7772",
   "metadata": {},
   "outputs": [
    {
     "data": {
      "text/plain": [
       "array([0, 0, 0, ..., 0, 0, 0], dtype=int64)"
      ]
     },
     "execution_count": 33,
     "metadata": {},
     "output_type": "execute_result"
    }
   ],
   "source": [
    "gb_model.fit(X_train, y_train)\n",
    "gb= gb_model.predict(X_valid)\n",
    "gb"
   ]
  },
  {
   "cell_type": "code",
   "execution_count": 34,
   "id": "ed42d4ea",
   "metadata": {},
   "outputs": [
    {
     "name": "stdout",
     "output_type": "stream",
     "text": [
      "Accuracy score: 0.6583385384134915\n",
      "              precision    recall  f1-score   support\n",
      "\n",
      "           0       0.66      1.00      0.79      6335\n",
      "           1       0.21      0.00      0.00      3271\n",
      "\n",
      "    accuracy                           0.66      9606\n",
      "   macro avg       0.43      0.50      0.40      9606\n",
      "weighted avg       0.51      0.66      0.52      9606\n",
      "\n"
     ]
    }
   ],
   "source": [
    "print('Accuracy score:', accuracy_score(y_valid, gb))\n",
    "print(classification_report(y_valid,gb))"
   ]
  },
  {
   "cell_type": "code",
   "execution_count": 35,
   "id": "7df2deca",
   "metadata": {},
   "outputs": [
    {
     "name": "stdout",
     "output_type": "stream",
     "text": [
      "Requirement already satisfied: xgboost in c:\\users\\asus\\anaconda3\\lib\\site-packages (1.7.1)\n",
      "Requirement already satisfied: numpy in c:\\users\\asus\\anaconda3\\lib\\site-packages (from xgboost) (1.22.4)\n",
      "Requirement already satisfied: scipy in c:\\users\\asus\\anaconda3\\lib\\site-packages (from xgboost) (1.7.1)\n",
      "Note: you may need to restart the kernel to use updated packages.\n"
     ]
    }
   ],
   "source": [
    "pip install xgboost"
   ]
  },
  {
   "cell_type": "code",
   "execution_count": 36,
   "id": "ceda785a",
   "metadata": {},
   "outputs": [
    {
     "name": "stdout",
     "output_type": "stream",
     "text": [
      "Requirement already satisfied: xgboost in c:\\users\\asus\\anaconda3\\lib\\site-packages (1.7.1)Note: you may need to restart the kernel to use updated packages.\n",
      "\n",
      "Requirement already satisfied: scipy in c:\\users\\asus\\anaconda3\\lib\\site-packages (from xgboost) (1.7.1)\n",
      "Requirement already satisfied: numpy in c:\\users\\asus\\anaconda3\\lib\\site-packages (from xgboost) (1.22.4)\n"
     ]
    }
   ],
   "source": [
    "pip install --upgrade xgboost"
   ]
  },
  {
   "cell_type": "code",
   "execution_count": 37,
   "id": "a2f68658",
   "metadata": {},
   "outputs": [],
   "source": [
    "#XGBoost (TỆ)\n",
    "from xgboost import XGBClassifier"
   ]
  },
  {
   "cell_type": "code",
   "execution_count": 38,
   "id": "f6531a1d",
   "metadata": {},
   "outputs": [
    {
     "data": {
      "text/plain": [
       "XGBClassifier(base_score=0.5, booster='gbtree', callbacks=None,\n",
       "              colsample_bylevel=1, colsample_bynode=1, colsample_bytree=1,\n",
       "              early_stopping_rounds=None, enable_categorical=False,\n",
       "              eval_metric=None, feature_types=None, gamma=0, gpu_id=-1,\n",
       "              grow_policy='depthwise', importance_type=None,\n",
       "              interaction_constraints='', learning_rate=0.300000012,\n",
       "              max_bin=256, max_cat_threshold=64, max_cat_to_onehot=4,\n",
       "              max_delta_step=0, max_depth=6, max_leaves=0, min_child_weight=1,\n",
       "              missing=nan, monotone_constraints='()', n_estimators=100,\n",
       "              n_jobs=0, num_parallel_tree=1, predictor='auto', random_state=0, ...)"
      ]
     },
     "execution_count": 38,
     "metadata": {},
     "output_type": "execute_result"
    }
   ],
   "source": [
    "xgb_model = XGBClassifier()\n",
    "xgb_model.fit(X_train, y_train)"
   ]
  },
  {
   "cell_type": "code",
   "execution_count": 39,
   "id": "568b0010",
   "metadata": {},
   "outputs": [
    {
     "data": {
      "text/plain": [
       "array([0, 0, 0, ..., 0, 0, 0])"
      ]
     },
     "execution_count": 39,
     "metadata": {},
     "output_type": "execute_result"
    }
   ],
   "source": [
    "xgb = xgb_model.predict(X_valid)\n",
    "xgb"
   ]
  },
  {
   "cell_type": "code",
   "execution_count": 40,
   "id": "ef4068ae",
   "metadata": {},
   "outputs": [
    {
     "name": "stdout",
     "output_type": "stream",
     "text": [
      "Accuracy score: 0.6471996668748699\n",
      "              precision    recall  f1-score   support\n",
      "\n",
      "           0       0.66      0.96      0.78      6335\n",
      "           1       0.36      0.04      0.08      3271\n",
      "\n",
      "    accuracy                           0.65      9606\n",
      "   macro avg       0.51      0.50      0.43      9606\n",
      "weighted avg       0.56      0.65      0.54      9606\n",
      "\n"
     ]
    }
   ],
   "source": [
    "print('Accuracy score:', accuracy_score(y_valid, xgb))\n",
    "print(classification_report(y_valid, xgb))"
   ]
  },
  {
   "cell_type": "code",
   "execution_count": 41,
   "id": "b125d3e9",
   "metadata": {},
   "outputs": [],
   "source": [
    "#Dự đoán trên tập data mới ở đây là file test\n",
    "new_data = pd.read_excel(\"C:\\\\Users\\\\ASUS\\\\Documents\\\\a.xlsx\", index_col = \"id\")"
   ]
  },
  {
   "cell_type": "code",
   "execution_count": 42,
   "id": "e0baf689",
   "metadata": {},
   "outputs": [
    {
     "data": {
      "text/plain": [
       "array([0, 0, 1, ..., 0, 1, 0], dtype=int64)"
      ]
     },
     "execution_count": 42,
     "metadata": {},
     "output_type": "execute_result"
    }
   ],
   "source": [
    "prediction =dt_model.predict(new_data)\n",
    "prediction"
   ]
  },
  {
   "cell_type": "code",
   "execution_count": 43,
   "id": "a14a76a6",
   "metadata": {},
   "outputs": [],
   "source": [
    "df = pd.DataFrame(prediction)\n",
    "filepath= \"C:\\\\Users\\\\ASUS\\\\Downloads\\\\Book1.xlsx\"\n",
    "df.to_excel(filepath, index=False)"
   ]
  },
  {
   "cell_type": "code",
   "execution_count": null,
   "id": "ec5b8e46",
   "metadata": {},
   "outputs": [],
   "source": []
  }
 ],
 "metadata": {
  "kernelspec": {
   "display_name": "Python 3 (ipykernel)",
   "language": "python",
   "name": "python3"
  },
  "language_info": {
   "codemirror_mode": {
    "name": "ipython",
    "version": 3
   },
   "file_extension": ".py",
   "mimetype": "text/x-python",
   "name": "python",
   "nbconvert_exporter": "python",
   "pygments_lexer": "ipython3",
   "version": "3.9.13"
  }
 },
 "nbformat": 4,
 "nbformat_minor": 5
}
